import pandas as pd
import numpy as np
import random
import string

# Number of days in two quarters
num_days = 2 * 90

# Generate dates
dates = pd.date_range(start='2023-01-01', periods=num_days, freq='D')

# List of countries
countries = ['USA', 'UK', 'Canada', 'Australia', 'Germany', 'France', 'Japan']

# List of event names
event_names = ['project created', 'editor touched', 'project exported', 'project downloaded']

# Initialize DataFrame
data = []

# Pool of user IDs to simulate returning users
user_id_pool = set()

# Generate data for each day
for date in dates:
    # Generate new user IDs for the day
    daily_user_ids = set([''.join(random.choices(string.ascii_letters + string.digits, k=24)) for _ in range(70)])  # 70% new users
    # Add a portion of existing user IDs for returning users
    if user_id_pool:
        daily_user_ids.update(random.sample(list(user_id_pool), min(len(user_id_pool), 30)))  # 30% returning users

    # Update the user ID pool with today's user IDs
    user_id_pool.update(daily_user_ids)

    # Generate event IDs for the day
    event_ids = [''.join(random.choices(string.ascii_letters + string.digits, k=35)) for _ in range(100)]

    for _ in range(100):  # 100 rows per day
        country = random.choice(countries)
        event_name = random.choice(event_names)
        user_id = random.choice(list(daily_user_ids))
        event_id = random.choice(event_ids)
        platform = random.choice(['mob', 'web'])
        new_vs_returning = 'new' if user_id in daily_user_ids and user_id not in user_id_pool else 'returning'
        data.append([date, country, event_name, user_id, event_id, platform, new_vs_returning])

# Create DataFrame
df = pd.DataFrame(data, columns=['date', 'country', 'event_name', 'user_id', 'event_id', 'platform', 'new_vs_returning'])

# Save DataFrame to CSV
df.to_csv("Daily_data.csv", index=False)




import pandas as pd
import numpy as np
import random
import string

# Number of days in two quarters
num_days = 2 * 90

# Generate dates
dates = pd.date_range(start='2023-01-01', periods=num_days, freq='D')

# Initialize DataFrame for subscription data
subscription_data = []

# Generate subscription data for each day
for date in dates:
    for _ in range(100):  # 100 subscriptions per day
        subscription_tenure = random.randint(1, 12)  # Random tenure between 1 and 12 months
        subscription_type = 'monthly' if random.random() < 0.5 else 'yearly'
        if subscription_type == 'monthly':
            subscription_price = 9.99
            discount = 0
        else:
            subscription_price = 9.99 * 12
            discount = 19.99
        subscription_data.append([date, 'new_arr', subscription_type, subscription_tenure, subscription_price, discount, ''])

        if random.random() < 0.2:  # 20% chance of cancellation
            cancel_reason = random.choice(['price', 'service', 'not using', 'switched to competitor'])
            subscription_data.append([date, 'cancel_arr', subscription_type, subscription_tenure, subscription_price, discount, cancel_reason])

# Create DataFrame for subscription data
subscription_df = pd.DataFrame(subscription_data, columns=['date', 'type', 'subscription_type', 'subscription_tenure', 'subscription_price', 'discount', 'cancel_reason'])

# Save DataFrame to CSV
subscription_df.to_csv("subscription_data.csv", index=False)


import pandas as pd

# Generate dates
dates = pd.date_range(start='2023-01-01', end='2023-06-29')

# Extract week, quarter, and year
week = dates.weekofyear
quarter = dates.quarter
year = dates.year

# Create DataFrame for mapping sheet
mapping_sheet = pd.DataFrame({'date': dates, 'week': week, 'quarter': quarter, 'year': year})

# Save DataFrame to CSV
mapping_sheet.to_csv("mapping_sheet.csv", index=False)
